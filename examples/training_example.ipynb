 {
 "cells": [
  {
   "cell_type": "markdown",
   "metadata": {},
   "source": [
    "# DCGAN with FFT Training Example\n",
    "\n",
    "This notebook demonstrates how to use the improved DCGAN with FFT implementation."
   ]
  },
  {
   "cell_type": "code",
   "execution_count": null,
   "metadata": {},
   "source": [
    "import os\n",
    "import sys\n",
    "import torch\n",
    "import matplotlib.pyplot as plt\n",
    "\n",
    "# Add the src directory to the Python path\n",
    "sys.path.append(os.path.abspath(os.path.join(os.getcwd(), '..')))\n",
    "\n",
    "from src.config.config import config\n",
    "from src.models.dcgan import create_models\n",
    "from src.utils.visualization import plot_fft_components\n",
    "from src.utils.data_loader import create_dataloader"
   ]
  },
  {
   "cell_type": "markdown",
   "metadata": {},
   "source": [
    "## Configure the Model\n",
    "\n",
    "First, let's configure the model parameters:"
   ]
  },
  {
   "cell_type": "code",
   "execution_count": null,
   "metadata": {},
   "source": [
    "# Update configuration\n",
    "config.model.img_size = 64\n",
    "config.model.latent_dim = 100\n",
    "config.training.batch_size = 64\n",
    "config.training.n_epochs = 100\n",
    "config.data.categories = ['a']  # Update with your categories\n",
    "\n",
    "print(\"Configuration:\")\n",
    "print(f\"Image size: {config.model.img_size}\")\n",
    "print(f\"Latent dimension: {config.model.latent_dim}\")\n",
    "print(f\"Batch size: {config.training.batch_size}\")\n",
    "print(f\"Number of epochs: {config.training.n_epochs}\")"
   ]
  },
  {
   "cell_type": "markdown",
   "metadata": {},
   "source": [
    "## Create and Visualize Models\n",
    "\n",
    "Let's create the generator and discriminator models and visualize their architectures:"
   ]
  },
  {
   "cell_type": "code",
   "execution_count": null,
   "metadata": {},
   "source": [
    "# Create models\n",
    "generator, discriminator = create_models(config)\n",
    "\n",
    "print(\"Generator architecture:\")\n",
    "print(generator)\n",
    "print(\"\\nDiscriminator architecture:\")\n",
    "print(discriminator)"
   ]
  },
  {
   "cell_type": "markdown",
   "metadata": {},
   "source": [
    "## Load and Visualize Data\n",
    "\n",
    "Let's load some sample data and visualize the FFT components:"
   ]
  },
  {
   "cell_type": "code",
   "execution_count": null,
   "metadata": {},
   "source": [
    "# Create dataloader\n",
    "dataloader = create_dataloader(\n",
    "    data_path=config.data.data_path,\n",
    "    categories=config.data.categories,\n",
    "    batch_size=config.training.batch_size,\n",
    "    img_size=config.data.img_size\n",
    ")\n",
    "\n",
    "# Get a batch of images\n",
    "imgs = next(iter(dataloader))\n",
    "\n",
    "# Visualize FFT components for the first image\n",
    "plot_fft_components(\n",
    "    imgs[0],\n",
    "    'fft_components.png'\n",
    ")"
   ]
  },
  {
   "cell_type": "markdown",
   "metadata": {},
   "source": [
    "## Train the Model\n",
    "\n",
    "Now, let's train the model:"
   ]
  },
  {
   "cell_type": "code",
   "execution_count": null,
   "metadata": {},
   "source": [
    "from src.train import train\n",
    "\n",
    "# Train the model\n",
    "train()"
   ]
  },
  {
   "cell_type": "markdown",
   "metadata": {},
   "source": [
    "## Visualize Results\n",
    "\n",
    "Let's visualize the training metrics and generated images:"
   ]
  },
  {
   "cell_type": "code",
   "execution_count": null,
   "metadata": {},
   "source": [
    "import json\n",
    "\n",
    "# Load training metrics\n",
    "with open('logs/metrics.json', 'r') as f:\n",
    "    metrics = json.load(f)\n",
    "\n",
    "# Plot metrics\n",
    "plt.figure(figsize=(10, 6))\n",
    "plt.plot(metrics['epoch'], metrics['d_loss'], label='Discriminator Loss')\n",
    "plt.plot(metrics['epoch'], metrics['g_loss'], label='Generator Loss')\n",
    "plt.title('Training Metrics')\n",
    "plt.xlabel('Epoch')\n",
    "plt.ylabel('Loss')\n",
    "plt.legend()\n",
    "plt.grid(True)\n",
    "plt.show()"
   ]
  }
 ],
 "metadata": {
  "kernelspec": {
   "display_name": "Python 3",
   "language": "python",
   "name": "python3"
  }
 },
 "nbformat": 4,
 "nbformat_minor": 4
}
